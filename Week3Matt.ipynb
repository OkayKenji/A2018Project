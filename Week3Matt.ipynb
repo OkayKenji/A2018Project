{
  "nbformat": 4,
  "nbformat_minor": 0,
  "metadata": {
    "colab": {
      "provenance": [],
      "include_colab_link": true
    },
    "kernelspec": {
      "name": "python3",
      "display_name": "Python 3"
    },
    "language_info": {
      "name": "python"
    }
  },
  "cells": [
    {
      "cell_type": "markdown",
      "metadata": {
        "id": "view-in-github",
        "colab_type": "text"
      },
      "source": [
        "<a href=\"https://colab.research.google.com/github/OkayKenji/A2018Project/blob/main/Week3Matt.ipynb\" target=\"_parent\"><img src=\"https://colab.research.google.com/assets/colab-badge.svg\" alt=\"Open In Colab\"/></a>"
      ]
    },
    {
      "cell_type": "markdown",
      "source": [
        "# Week 3 (Matt):  In-class exercise\n",
        "Worked on by Team Java (Chris A, Tyler B, Simone G, Zia J, and Kenji O)\n",
        "\n",
        "# Importing 🐼"
      ],
      "metadata": {
        "id": "xk4Q3DUF31If"
      }
    },
    {
      "cell_type": "code",
      "execution_count": null,
      "metadata": {
        "id": "p00Hw_KwkjQ3"
      },
      "outputs": [],
      "source": [
        "import pandas as pd"
      ]
    },
    {
      "cell_type": "markdown",
      "source": [
        "# Creating dictionary to store populations "
      ],
      "metadata": {
        "id": "SUusXWEo330b"
      }
    },
    {
      "cell_type": "code",
      "source": [
        "population_dict = {'Bronx':  2_648_771, # you can use _ that acts like commas\n",
        "                   'Queens': 2_358_582,\n",
        "                   'Manhattan': 1_628_701,\n",
        "                   'The Bronx':  1_471_160,\n",
        "                   'Staten Island, Jack and Falcos Homeland': 476_015}\n",
        "# data from the ChatGPT"
      ],
      "metadata": {
        "id": "APSsl3am3pGB"
      },
      "execution_count": null,
      "outputs": []
    },
    {
      "cell_type": "markdown",
      "source": [
        "# Finding the sum and mean\n",
        "Using the panda functions :)"
      ],
      "metadata": {
        "id": "QX98zsoB3592"
      }
    },
    {
      "cell_type": "code",
      "source": [
        "population = pd.Series(population_dict)\n",
        "sum_ = population.sum()\n",
        "mean_ = population.mean()"
      ],
      "metadata": {
        "id": "1ZcDvtFA3sUF"
      },
      "execution_count": null,
      "outputs": []
    },
    {
      "cell_type": "markdown",
      "source": [
        "# Displaying Stats"
      ],
      "metadata": {
        "id": "rhls5Fnm37iA"
      }
    },
    {
      "cell_type": "code",
      "source": [
        "print(f'Mean: {mean_:,} \\n Sum: {sum_:,}')\n",
        "# Credit:\n",
        "#  - https://stackoverflow.com/questions/1823058/how-to-print-a-number-using-commas-as-thousands-separators "
      ],
      "metadata": {
        "colab": {
          "base_uri": "https://localhost:8080/"
        },
        "id": "u3DtKOWC3t7W",
        "outputId": "73365b76-059f-43fd-fa59-cb2500f07c37"
      },
      "execution_count": null,
      "outputs": [
        {
          "output_type": "stream",
          "name": "stdout",
          "text": [
            "Mean: 1,716,645.8 \n",
            " Sum: 8,583,229\n"
          ]
        }
      ]
    }
  ]
}